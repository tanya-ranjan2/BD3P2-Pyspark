{
 "cells": [
  {
   "cell_type": "markdown",
   "id": "56bc2914-1625-404d-b50d-4022ff6ce6be",
   "metadata": {},
   "source": [
    "## Demonstrating the spark streaming"
   ]
  },
  {
   "cell_type": "code",
   "execution_count": 1,
   "id": "8472d495-72db-4809-b937-8ddb6119df82",
   "metadata": {},
   "outputs": [],
   "source": [
    "import sys\n",
    "from pyspark import SparkContext\n",
    "from pyspark.streaming import StreamingContext\n",
    "import os\n",
    "from datetime import datetime\n",
    "now = datetime.now()\n",
    "import time\n",
    "ts = time.time()"
   ]
  },
  {
   "cell_type": "markdown",
   "id": "bb3cb6fc-e3f2-4a00-9762-3112d3482217",
   "metadata": {},
   "source": [
    "## Receiving - from spark streaming context - a simple word count program"
   ]
  },
  {
   "cell_type": "code",
   "execution_count": 2,
   "id": "8d343432-beaf-485d-945d-5df4e252a267",
   "metadata": {},
   "outputs": [],
   "source": [
    "if __name__ == \"__main__\":\n",
    "    hostname = \"localhost\"\n",
    "    port = int(9999)\n",
    "    sc = SparkContext(appName=\"PythonStreamingNetworkWordCount\")\n",
    "    ssc = StreamingContext(sc, 10)"
   ]
  },
  {
   "cell_type": "code",
   "execution_count": null,
   "id": "e6a23bb8-88df-4268-932b-59bda6ec229f",
   "metadata": {},
   "outputs": [
    {
     "name": "stdout",
     "output_type": "stream",
     "text": [
      "-------------------------------------------\n",
      "Time: 2022-01-09 21:51:40\n",
      "-------------------------------------------\n",
      "('HELLO', 1)\n",
      "\n",
      "-------------------------------------------\n",
      "Time: 2022-01-09 21:51:50\n",
      "-------------------------------------------\n",
      "\n",
      "-------------------------------------------\n",
      "Time: 2022-01-09 21:52:00\n",
      "-------------------------------------------\n",
      "('ARE', 1)\n",
      "('HELLO', 1)\n",
      "('SPARK', 2)\n",
      "('HOW', 1)\n",
      "('YOU', 1)\n",
      "\n",
      "-------------------------------------------\n",
      "Time: 2022-01-09 21:52:10\n",
      "-------------------------------------------\n",
      "('SPARK', 2)\n",
      "('WELCOME', 1)\n",
      "('HOME', 1)\n",
      "\n",
      "-------------------------------------------\n",
      "Time: 2022-01-09 21:52:20\n",
      "-------------------------------------------\n",
      "\n",
      "-------------------------------------------\n",
      "Time: 2022-01-09 21:52:30\n",
      "-------------------------------------------\n",
      "\n",
      "-------------------------------------------\n",
      "Time: 2022-01-09 21:52:40\n",
      "-------------------------------------------\n",
      "\n",
      "-------------------------------------------\n",
      "Time: 2022-01-09 21:52:50\n",
      "-------------------------------------------\n",
      "('HADOOP', 1)\n",
      "('SPARK', 2)\n",
      "('JAVA', 1)\n",
      "('PYTHON', 2)\n",
      "('HOME', 5)\n",
      "\n",
      "-------------------------------------------\n",
      "Time: 2022-01-09 21:53:00\n",
      "-------------------------------------------\n",
      "\n",
      "-------------------------------------------\n",
      "Time: 2022-01-09 21:53:10\n",
      "-------------------------------------------\n",
      "\n",
      "-------------------------------------------\n",
      "Time: 2022-01-09 21:53:20\n",
      "-------------------------------------------\n",
      "('ARE', 1)\n",
      "('IN', 1)\n",
      "('TEAM', 1)\n",
      "('FOUR', 1)\n",
      "('GROUP', 1)\n",
      "('MEMBERS', 2)\n",
      "\n"
     ]
    }
   ],
   "source": [
    "lines = ssc.socketTextStream(hostname, port)\n",
    "counts = lines.flatMap(lambda line: line.split(\" \"))\\\n",
    "              .map(lambda word: (word, 1))\\\n",
    "              .reduceByKey(lambda a, b: a+b)\n",
    "counts.pprint()\n",
    "ssc.start()\n",
    "ssc.awaitTermination()"
   ]
  },
  {
   "cell_type": "code",
   "execution_count": null,
   "id": "414db091-337f-4777-babf-4117712fe7a1",
   "metadata": {},
   "outputs": [],
   "source": []
  },
  {
   "cell_type": "code",
   "execution_count": null,
   "id": "daa2cb2d-5b5a-4047-a9b8-2e631c170ac4",
   "metadata": {},
   "outputs": [],
   "source": []
  }
 ],
 "metadata": {
  "kernelspec": {
   "display_name": "Python 3",
   "language": "python",
   "name": "python3"
  },
  "language_info": {
   "codemirror_mode": {
    "name": "ipython",
    "version": 3
   },
   "file_extension": ".py",
   "mimetype": "text/x-python",
   "name": "python",
   "nbconvert_exporter": "python",
   "pygments_lexer": "ipython3",
   "version": "3.8.11"
  }
 },
 "nbformat": 4,
 "nbformat_minor": 5
}
